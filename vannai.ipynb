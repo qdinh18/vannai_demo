{
 "cells": [
  {
   "cell_type": "code",
   "execution_count": null,
   "id": "403cc570",
   "metadata": {},
   "outputs": [],
   "source": [
    "%pip install vanna"
   ]
  },
  {
   "cell_type": "code",
   "execution_count": null,
   "id": "c017d135",
   "metadata": {},
   "outputs": [],
   "source": [
    "import vanna\n",
    "from vanna.remote import VannaDefault\n",
    "from vanna.flask import VannaFlaskApp"
   ]
  },
  {
   "cell_type": "code",
   "execution_count": null,
   "id": "6694d26d",
   "metadata": {},
   "outputs": [],
   "source": [
    "api_key = vanna.get_api_key('dinhvietquyen18@gmail.com')\n",
    "\n",
    "vanna_model_name = \"real_estate_model\"\n",
    "vn = VannaDefault(model=vanna_model_name, api_key=api_key)"
   ]
  },
  {
   "cell_type": "code",
   "execution_count": null,
   "id": "01c2900e",
   "metadata": {},
   "outputs": [],
   "source": [
    "# DDL statements are powerful because they specify table names, colume names, types, and potentially relationships\n",
    "vn.train(ddl=\"\"\"\n",
    "    CREATE TABLE IF NOT EXISTS dim_broker (\n",
    "    broker_id      SERIAL PRIMARY KEY,\n",
    "    update_date    DATE NOT NULL,\n",
    "    broker_name    TEXT,\n",
    "    broker_rank    TEXT\n",
    ")\n",
    "\"\"\")\n",
    "vn.train(ddl=\"\"\"\n",
    "    CREATE TABLE IF NOT EXISTS dim_post (\n",
    "    post_id        SERIAL PRIMARY KEY,\n",
    "    update_date    DATE NOT NULL,\n",
    "    title          TEXT,\n",
    "    url            TEXT,\n",
    "    posted_date    DATE,\n",
    "    expired_date   DATE\n",
    ")\n",
    "\"\"\")\n",
    "vn.train(ddl=\"\"\"\n",
    "    CREATE TABLE IF NOT EXISTS dim_project (\n",
    "    project_id             SERIAL PRIMARY KEY,\n",
    "    update_date            DATE NOT NULL,\n",
    "    project_name           TEXT,\n",
    "    investor               TEXT,\n",
    "    project_area_range     TEXT,\n",
    "    project_status         TEXT,\n",
    "    address                TEXT,\n",
    "    number_of_apartments   REAL,\n",
    "    number_of_buildings    REAL\n",
    ")\n",
    "\"\"\")\n",
    "vn.train(ddl=\"\"\"\n",
    "    CREATE TABLE IF NOT EXISTS fact_all_apartment (\n",
    "    post_id               INT REFERENCES dim_post(post_id),\n",
    "    update_date           DATE NOT NULL,\n",
    "    broker_id             INT REFERENCES dim_broker(broker_id),\n",
    "    project_id            INT REFERENCES dim_project(project_id),\n",
    "    price                 FLOAT,\n",
    "    price_unit            TEXT,\n",
    "    price_per_m²          FLOAT,\n",
    "    price_per_m²_unit     TEXT,\n",
    "    area                  FLOAT,\n",
    "    area_unit             TEXT,\n",
    "    bedroom               REAL,\n",
    "    bathroom              REAL\n",
    ")\n",
    "\"\"\")\n",
    "# Documentation is important to explain the meaning of each column and how to interpret the data\n",
    "vn.train(documentation=\"Our business defines the price_unit as tỷ đồng (billion), \" \\\n",
    "\"price_per_m²_unit as triệu đồng/m² (million VND per square meter), \" \\\n",
    "\"area_unit as m² (square meter),\" \\\n",
    "\"and bedroom/bathroom as the number of bedrooms/bathrooms respectively.\")\n",
    "\n",
    "vn.train(documentaion=\"price and price_per_m² both have null values, \" \\\n",
    "\"so we need to handle that in our SQL queries.\" \\\n",
    "\"If any question about price or price_per_m², \" \\\n",
    "\"we will not return null values for those columns.\")"
   ]
  },
  {
   "cell_type": "code",
   "execution_count": null,
   "id": "4003ac07",
   "metadata": {},
   "outputs": [],
   "source": [
    "# Let's connect to the database\n",
    "vn.connect_to_postgres(host='localhost', dbname='mydb', user='admin', password='admin', port='5432')"
   ]
  },
  {
   "cell_type": "code",
   "execution_count": null,
   "id": "a80d6da2",
   "metadata": {},
   "outputs": [],
   "source": [
    "# The information schema query may need some tweaking depending on your database. This is a good starting point.\n",
    "df_information_schema = vn.run_sql(\"SELECT * FROM INFORMATION_SCHEMA.COLUMNS\")\n",
    "\n",
    "# This will break up the information schema into bite-sized chunks that can be referenced by the LLM\n",
    "plan = vn.get_training_plan_generic(df_information_schema)\n",
    "plan\n",
    "\n",
    "# Run it to train\n",
    "vn.train(plan=plan)"
   ]
  },
  {
   "cell_type": "code",
   "execution_count": 5,
   "id": "853120d6",
   "metadata": {},
   "outputs": [],
   "source": [
    "# Now we can run the Vanna Flask app to interact with our model\n",
    "# This will start a web server that you can access in your browser\n",
    "app = VannaFlaskApp(vn)\n",
    "app.run()"
   ]
  }
 ],
 "metadata": {
  "kernelspec": {
   "display_name": "Python 3",
   "language": "python",
   "name": "python3"
  },
  "language_info": {
   "codemirror_mode": {
    "name": "ipython",
    "version": 3
   },
   "file_extension": ".py",
   "mimetype": "text/x-python",
   "name": "python",
   "nbconvert_exporter": "python",
   "pygments_lexer": "ipython3",
   "version": "3.11.10"
  }
 },
 "nbformat": 4,
 "nbformat_minor": 5
}
